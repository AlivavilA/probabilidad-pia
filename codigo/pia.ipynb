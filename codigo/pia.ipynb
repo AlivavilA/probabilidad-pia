{
 "cells": [
  {
   "cell_type": "code",
   "execution_count": 30,
   "metadata": {},
   "outputs": [],
   "source": [
    "# Librerias\n",
    "import pandas as pd\n",
    "import numpy as np\n",
    "import matplotlib.pyplot as plt"
   ]
  },
  {
   "cell_type": "code",
   "execution_count": 38,
   "metadata": {},
   "outputs": [
    {
     "data": {
      "text/html": [
       "<div>\n",
       "<style scoped>\n",
       "    .dataframe tbody tr th:only-of-type {\n",
       "        vertical-align: middle;\n",
       "    }\n",
       "\n",
       "    .dataframe tbody tr th {\n",
       "        vertical-align: top;\n",
       "    }\n",
       "\n",
       "    .dataframe thead th {\n",
       "        text-align: right;\n",
       "    }\n",
       "</style>\n",
       "<table border=\"1\" class=\"dataframe\">\n",
       "  <thead>\n",
       "    <tr style=\"text-align: right;\">\n",
       "      <th></th>\n",
       "      <th>Peso</th>\n",
       "    </tr>\n",
       "  </thead>\n",
       "  <tbody>\n",
       "    <tr>\n",
       "      <th>0</th>\n",
       "      <td>7.2</td>\n",
       "    </tr>\n",
       "    <tr>\n",
       "      <th>1</th>\n",
       "      <td>8.0</td>\n",
       "    </tr>\n",
       "    <tr>\n",
       "      <th>2</th>\n",
       "      <td>8.2</td>\n",
       "    </tr>\n",
       "    <tr>\n",
       "      <th>3</th>\n",
       "      <td>5.8</td>\n",
       "    </tr>\n",
       "    <tr>\n",
       "      <th>4</th>\n",
       "      <td>6.1</td>\n",
       "    </tr>\n",
       "  </tbody>\n",
       "</table>\n",
       "</div>"
      ],
      "text/plain": [
       "   Peso\n",
       "0   7.2\n",
       "1   8.0\n",
       "2   8.2\n",
       "3   5.8\n",
       "4   6.1"
      ]
     },
     "execution_count": 38,
     "metadata": {},
     "output_type": "execute_result"
    }
   ],
   "source": [
    "# Dataset\n",
    "df = pd.read_csv('pesos.csv')\n",
    "df.head()"
   ]
  },
  {
   "attachments": {},
   "cell_type": "markdown",
   "metadata": {},
   "source": [
    "#### Por hacer\n",
    "- Crear una funcion para obtener la media de datos agrupados\n",
    "- Crear una funcion para obtener la moda de datos agrupados\n",
    "- Crear una funcion para obtener la mediana de datos agrupados\n",
    "- Crear una funcion para obtener la varianza de datos agrupados\n",
    "- Crear una funcion para obtener el rango de datos agrupados\n",
    "- Crear diagrama de tallos y hojas (¿hacer en excel?)\n",
    "- ✔️ Crear diagrama de puntos \n",
    "- Crear tabla de datos agrupados "
   ]
  },
  {
   "attachments": {},
   "cell_type": "markdown",
   "metadata": {},
   "source": [
    "#### Variables globales"
   ]
  },
  {
   "cell_type": "code",
   "execution_count": 50,
   "metadata": {},
   "outputs": [],
   "source": [
    "# Rango y numero de elementos\n",
    "rango = df.max() - df.min()\n",
    "n = df.shape[0]\n",
    "\n",
    "# Numero de clases\n",
    "if n < 30:\n",
    "    numero_clases = int(np.ceil(np.sqrt(n)))\n",
    "else:\n",
    "    numero_clases = int(np.ceil(1 + (3.322 * np.log(n))))\n",
    "\n",
    "# Amplitud\n",
    "amplitud = rango / numero_clases"
   ]
  },
  {
   "attachments": {},
   "cell_type": "markdown",
   "metadata": {},
   "source": [
    "#### Funciones por hacer"
   ]
  },
  {
   "cell_type": "code",
   "execution_count": 23,
   "metadata": {},
   "outputs": [],
   "source": [
    "# Funcion para obtener la media\n",
    "def media(marca_clase, frec_absoluta, n):\n",
    "    pass"
   ]
  },
  {
   "cell_type": "code",
   "execution_count": 24,
   "metadata": {},
   "outputs": [],
   "source": [
    "# Funcion para obtener la moda\n",
    "def moda():\n",
    "    pass"
   ]
  },
  {
   "cell_type": "code",
   "execution_count": 25,
   "metadata": {},
   "outputs": [],
   "source": [
    "# Funcion para obtener la mediana\n",
    "def mediana():\n",
    "    pass"
   ]
  },
  {
   "cell_type": "code",
   "execution_count": 26,
   "metadata": {},
   "outputs": [],
   "source": [
    "# Funcion para obtener la varianza\n",
    "def varianza():\n",
    "    pass"
   ]
  },
  {
   "cell_type": "code",
   "execution_count": 27,
   "metadata": {},
   "outputs": [],
   "source": [
    "# Funcion para obtener el rango\n",
    "def rango():\n",
    "    pass"
   ]
  },
  {
   "attachments": {},
   "cell_type": "markdown",
   "metadata": {},
   "source": [
    "#### Grafica de tallo y hoja"
   ]
  },
  {
   "cell_type": "code",
   "execution_count": null,
   "metadata": {},
   "outputs": [],
   "source": [
    "# ..."
   ]
  },
  {
   "attachments": {},
   "cell_type": "markdown",
   "metadata": {},
   "source": [
    "#### Diagrama de puntos"
   ]
  },
  {
   "cell_type": "code",
   "execution_count": 32,
   "metadata": {},
   "outputs": [],
   "source": [
    "# Funcion para generar el diagrama de puntos\n",
    "def dotplot(input_x, **args):\n",
    "\n",
    "    # Count how many times does each value occur\n",
    "    unique_values, counts = np.unique(input_x, return_counts=True)\n",
    "    \n",
    "    # Convert 1D input into 2D array\n",
    "    scatter_x = [] # x values \n",
    "    scatter_y = [] # corresponding y values\n",
    "    for idx, value in enumerate(unique_values):\n",
    "        for counter in range(1, counts[idx]+1):\n",
    "            scatter_x.append(value)\n",
    "            scatter_y.append(counter)\n",
    "\n",
    "    # draw dot plot using scatter() \n",
    "    plt.scatter(scatter_x, scatter_y, **args)\n",
    "    \n",
    "    # Optional - show all unique values on x-axis. \n",
    "    # Matplotlib might hide some of them  \n",
    "    plt.gca().set_xticks(unique_values)"
   ]
  },
  {
   "cell_type": "code",
   "execution_count": 48,
   "metadata": {},
   "outputs": [
    {
     "data": {
      "image/png": "[encoded data removed]",
      "text/plain": [
       "<Figure size 640x480 with 1 Axes>"
      ]
     },
     "metadata": {},
     "output_type": "display_data"
    }
   ],
   "source": [
    "# Arreglo con los valores\n",
    "test_array = df['Peso'].to_numpy()\n",
    "# Genera diagrama\n",
    "dotplot(input_x = test_array)"
   ]
  },
  {
   "attachments": {},
   "cell_type": "markdown",
   "metadata": {},
   "source": [
    "#### Tabla de datos agrupados"
   ]
  },
  {
   "cell_type": "code",
   "execution_count": 51,
   "metadata": {},
   "outputs": [
    {
     "data": {
      "text/html": [
       "<div>\n",
       "<style scoped>\n",
       "    .dataframe tbody tr th:only-of-type {\n",
       "        vertical-align: middle;\n",
       "    }\n",
       "\n",
       "    .dataframe tbody tr th {\n",
       "        vertical-align: top;\n",
       "    }\n",
       "\n",
       "    .dataframe thead th {\n",
       "        text-align: right;\n",
       "    }\n",
       "</style>\n",
       "<table border=\"1\" class=\"dataframe\">\n",
       "  <thead>\n",
       "    <tr style=\"text-align: right;\">\n",
       "      <th></th>\n",
       "      <th>Frecuencia absoluta</th>\n",
       "      <th>Frecuencia acumulada</th>\n",
       "      <th>Frecuencia relativa</th>\n",
       "    </tr>\n",
       "    <tr>\n",
       "      <th>Peso</th>\n",
       "      <th></th>\n",
       "      <th></th>\n",
       "      <th></th>\n",
       "    </tr>\n",
       "  </thead>\n",
       "  <tbody>\n",
       "    <tr>\n",
       "      <th>(5.595, 5.892]</th>\n",
       "      <td>2</td>\n",
       "      <td>2</td>\n",
       "      <td>0.066667</td>\n",
       "    </tr>\n",
       "    <tr>\n",
       "      <th>(5.892, 6.185]</th>\n",
       "      <td>1</td>\n",
       "      <td>3</td>\n",
       "      <td>0.033333</td>\n",
       "    </tr>\n",
       "    <tr>\n",
       "      <th>(6.185, 6.477]</th>\n",
       "      <td>1</td>\n",
       "      <td>4</td>\n",
       "      <td>0.033333</td>\n",
       "    </tr>\n",
       "    <tr>\n",
       "      <th>(6.477, 6.769]</th>\n",
       "      <td>1</td>\n",
       "      <td>5</td>\n",
       "      <td>0.033333</td>\n",
       "    </tr>\n",
       "    <tr>\n",
       "      <th>(6.769, 7.062]</th>\n",
       "      <td>3</td>\n",
       "      <td>8</td>\n",
       "      <td>0.100000</td>\n",
       "    </tr>\n",
       "    <tr>\n",
       "      <th>(7.062, 7.354]</th>\n",
       "      <td>3</td>\n",
       "      <td>11</td>\n",
       "      <td>0.100000</td>\n",
       "    </tr>\n",
       "    <tr>\n",
       "      <th>(7.354, 7.646]</th>\n",
       "      <td>2</td>\n",
       "      <td>13</td>\n",
       "      <td>0.066667</td>\n",
       "    </tr>\n",
       "    <tr>\n",
       "      <th>(7.646, 7.938]</th>\n",
       "      <td>7</td>\n",
       "      <td>20</td>\n",
       "      <td>0.233333</td>\n",
       "    </tr>\n",
       "    <tr>\n",
       "      <th>(7.938, 8.231]</th>\n",
       "      <td>4</td>\n",
       "      <td>24</td>\n",
       "      <td>0.133333</td>\n",
       "    </tr>\n",
       "    <tr>\n",
       "      <th>(8.231, 8.523]</th>\n",
       "      <td>2</td>\n",
       "      <td>26</td>\n",
       "      <td>0.066667</td>\n",
       "    </tr>\n",
       "    <tr>\n",
       "      <th>(8.523, 8.815]</th>\n",
       "      <td>1</td>\n",
       "      <td>27</td>\n",
       "      <td>0.033333</td>\n",
       "    </tr>\n",
       "    <tr>\n",
       "      <th>(8.815, 9.108]</th>\n",
       "      <td>2</td>\n",
       "      <td>29</td>\n",
       "      <td>0.066667</td>\n",
       "    </tr>\n",
       "    <tr>\n",
       "      <th>(9.108, 9.4]</th>\n",
       "      <td>1</td>\n",
       "      <td>30</td>\n",
       "      <td>0.033333</td>\n",
       "    </tr>\n",
       "  </tbody>\n",
       "</table>\n",
       "</div>"
      ],
      "text/plain": [
       "                Frecuencia absoluta  Frecuencia acumulada  Frecuencia relativa\n",
       "Peso                                                                          \n",
       "(5.595, 5.892]                    2                     2             0.066667\n",
       "(5.892, 6.185]                    1                     3             0.033333\n",
       "(6.185, 6.477]                    1                     4             0.033333\n",
       "(6.477, 6.769]                    1                     5             0.033333\n",
       "(6.769, 7.062]                    3                     8             0.100000\n",
       "(7.062, 7.354]                    3                    11             0.100000\n",
       "(7.354, 7.646]                    2                    13             0.066667\n",
       "(7.646, 7.938]                    7                    20             0.233333\n",
       "(7.938, 8.231]                    4                    24             0.133333\n",
       "(8.231, 8.523]                    2                    26             0.066667\n",
       "(8.523, 8.815]                    1                    27             0.033333\n",
       "(8.815, 9.108]                    2                    29             0.066667\n",
       "(9.108, 9.4]                      1                    30             0.033333"
      ]
     },
     "execution_count": 51,
     "metadata": {},
     "output_type": "execute_result"
    }
   ],
   "source": [
    "# Por terminar, marca de clase, f_i * x_i, ...\n",
    "clases = df['Peso'].value_counts(bins = numero_clases, sort = False)\n",
    "tabla_frecuencias = pd.DataFrame(clases)\n",
    "tabla_frecuencias.rename(columns = {'count':'Frecuencia absoluta'}, inplace = True)\n",
    "frecuencia_acumulada = []\n",
    "acumulador = 0\n",
    "\n",
    "for i in tabla_frecuencias.index:\n",
    "    acumulador = acumulador + tabla_frecuencias['Frecuencia absoluta'][i]\n",
    "    frecuencia_acumulada.append(acumulador)\n",
    "\n",
    "tabla_frecuencias['Frecuencia acumulada'] = frecuencia_acumulada\n",
    "tabla_frecuencias['Frecuencia relativa'] = tabla_frecuencias['Frecuencia absoluta'] / n\n",
    "\n",
    "tabla_frecuencias"
   ]
  }
 ],
 "metadata": {
  "kernelspec": {
   "display_name": "Python 3",
   "language": "python",
   "name": "python3"
  },
  "language_info": {
   "codemirror_mode": {
    "name": "ipython",
    "version": 3
   },
   "file_extension": ".py",
   "mimetype": "text/x-python",
   "name": "python",
   "nbconvert_exporter": "python",
   "pygments_lexer": "ipython3",
   "version": "3.10.6"
  },
  "orig_nbformat": 4
 },
 "nbformat": 4,
 "nbformat_minor": 2
}
