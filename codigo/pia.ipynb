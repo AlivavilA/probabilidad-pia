{
 "cells": [
  {
   "cell_type": "code",
   "execution_count": 1,
   "metadata": {},
   "outputs": [],
   "source": [
    "import pandas as pd\n",
    "import numpy as np\n",
    "import matplotlib as plt"
   ]
  },
  {
   "attachments": {},
   "cell_type": "markdown",
   "metadata": {},
   "source": [
    "#### Por hacer:\n",
    "- Crear una funcion para obtener la media de datos agrupados\n",
    "- Crear una funcion para obtener la moda de datos agrupados\n",
    "- Crear una funcion para obtener la mediana de datos agrupados\n",
    "- Crear una funcion para obtener la varianza de datos agrupados\n",
    "- Crear una funcion para obtener el rango de datos agrupados\n",
    "- Crear diagrama de tallos y hojas (¿hacer en excel?)\n",
    "- Crear diagrama de puntos\n",
    "- Crear tabla de datos agrupados "
   ]
  },
  {
   "attachments": {},
   "cell_type": "markdown",
   "metadata": {},
   "source": [
    "#### Funciones:"
   ]
  }
 ],
 "metadata": {
  "kernelspec": {
   "display_name": "Python 3",
   "language": "python",
   "name": "python3"
  },
  "language_info": {
   "codemirror_mode": {
    "name": "ipython",
    "version": 3
   },
   "file_extension": ".py",
   "mimetype": "text/x-python",
   "name": "python",
   "nbconvert_exporter": "python",
   "pygments_lexer": "ipython3",
   "version": "3.10.6"
  },
  "orig_nbformat": 4
 },
 "nbformat": 4,
 "nbformat_minor": 2
}
