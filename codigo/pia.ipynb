{
 "cells": [
  {
   "cell_type": "code",
   "execution_count": 20,
   "metadata": {},
   "outputs": [],
   "source": [
    "# Librerias\n",
    "import pandas as pd\n",
    "import numpy as np\n",
    "import matplotlib as plt"
   ]
  },
  {
   "cell_type": "code",
   "execution_count": 21,
   "metadata": {},
   "outputs": [],
   "source": [
    "# Dataset\n",
    "df = pd.read_csv('pesos.csv')"
   ]
  },
  {
   "attachments": {},
   "cell_type": "markdown",
   "metadata": {},
   "source": [
    "#### Por hacer\n",
    "- Crear una funcion para obtener la media de datos agrupados\n",
    "- Crear una funcion para obtener la moda de datos agrupados\n",
    "- Crear una funcion para obtener la mediana de datos agrupados\n",
    "- Crear una funcion para obtener la varianza de datos agrupados\n",
    "- Crear una funcion para obtener el rango de datos agrupados\n",
    "- Crear diagrama de tallos y hojas (¿hacer en excel?)\n",
    "- Crear diagrama de puntos\n",
    "- Crear tabla de datos agrupados "
   ]
  },
  {
   "attachments": {},
   "cell_type": "markdown",
   "metadata": {},
   "source": [
    "#### Variables globales"
   ]
  },
  {
   "cell_type": "code",
   "execution_count": 22,
   "metadata": {},
   "outputs": [],
   "source": [
    "# Rango y numero de elementos\n",
    "rango = df.max() - df.min()\n",
    "n = df.shape[0]\n",
    "\n",
    "# Numero de clases\n",
    "if n < 30:\n",
    "    nClases = int(np.ceil(np.sqrt(n)))\n",
    "else:\n",
    "    nClases = int(np.ceil(1 + (3.322 * np.log(n))))\n",
    "\n",
    "# Amplitud\n",
    "amplitud = rango / nClases"
   ]
  },
  {
   "attachments": {},
   "cell_type": "markdown",
   "metadata": {},
   "source": [
    "#### Funciones por hacer"
   ]
  },
  {
   "cell_type": "code",
   "execution_count": 23,
   "metadata": {},
   "outputs": [],
   "source": [
    "# Funcion para obtener la media\n",
    "def media(marcaDeClase, frecAbsoluta, n):\n",
    "    pass"
   ]
  },
  {
   "cell_type": "code",
   "execution_count": 24,
   "metadata": {},
   "outputs": [],
   "source": [
    "# Funcion para obtener la moda\n",
    "def moda():\n",
    "    pass"
   ]
  },
  {
   "cell_type": "code",
   "execution_count": 25,
   "metadata": {},
   "outputs": [],
   "source": [
    "# Funcion para obtener la mediana\n",
    "def mediana():\n",
    "    pass"
   ]
  },
  {
   "cell_type": "code",
   "execution_count": 26,
   "metadata": {},
   "outputs": [],
   "source": [
    "# Funcion para obtener la varianza\n",
    "def varianza():\n",
    "    pass"
   ]
  },
  {
   "cell_type": "code",
   "execution_count": 27,
   "metadata": {},
   "outputs": [],
   "source": [
    "# Funcion para obtener el rango\n",
    "def rango():\n",
    "    pass"
   ]
  },
  {
   "attachments": {},
   "cell_type": "markdown",
   "metadata": {},
   "source": [
    "#### Grafica de tallo y hoja"
   ]
  },
  {
   "cell_type": "code",
   "execution_count": null,
   "metadata": {},
   "outputs": [],
   "source": []
  },
  {
   "attachments": {},
   "cell_type": "markdown",
   "metadata": {},
   "source": [
    "#### Diagrama de puntos"
   ]
  },
  {
   "cell_type": "code",
   "execution_count": null,
   "metadata": {},
   "outputs": [],
   "source": []
  },
  {
   "attachments": {},
   "cell_type": "markdown",
   "metadata": {},
   "source": [
    "#### Tabla de datos agrupados"
   ]
  },
  {
   "cell_type": "code",
   "execution_count": 29,
   "metadata": {},
   "outputs": [
    {
     "data": {
      "text/html": [
       "<div>\n",
       "<style scoped>\n",
       "    .dataframe tbody tr th:only-of-type {\n",
       "        vertical-align: middle;\n",
       "    }\n",
       "\n",
       "    .dataframe tbody tr th {\n",
       "        vertical-align: top;\n",
       "    }\n",
       "\n",
       "    .dataframe thead th {\n",
       "        text-align: right;\n",
       "    }\n",
       "</style>\n",
       "<table border=\"1\" class=\"dataframe\">\n",
       "  <thead>\n",
       "    <tr style=\"text-align: right;\">\n",
       "      <th></th>\n",
       "      <th>Frecuencia absoluta</th>\n",
       "      <th>Frecuencia acumulada</th>\n",
       "      <th>Frecuencia relativa</th>\n",
       "    </tr>\n",
       "    <tr>\n",
       "      <th>Peso</th>\n",
       "      <th></th>\n",
       "      <th></th>\n",
       "      <th></th>\n",
       "    </tr>\n",
       "  </thead>\n",
       "  <tbody>\n",
       "    <tr>\n",
       "      <th>(5.595, 5.871]</th>\n",
       "      <td>2</td>\n",
       "      <td>2</td>\n",
       "      <td>0.066667</td>\n",
       "    </tr>\n",
       "    <tr>\n",
       "      <th>(5.871, 6.143]</th>\n",
       "      <td>1</td>\n",
       "      <td>3</td>\n",
       "      <td>0.033333</td>\n",
       "    </tr>\n",
       "    <tr>\n",
       "      <th>(6.143, 6.414]</th>\n",
       "      <td>1</td>\n",
       "      <td>4</td>\n",
       "      <td>0.033333</td>\n",
       "    </tr>\n",
       "    <tr>\n",
       "      <th>(6.414, 6.686]</th>\n",
       "      <td>0</td>\n",
       "      <td>4</td>\n",
       "      <td>0.000000</td>\n",
       "    </tr>\n",
       "    <tr>\n",
       "      <th>(6.686, 6.957]</th>\n",
       "      <td>4</td>\n",
       "      <td>8</td>\n",
       "      <td>0.133333</td>\n",
       "    </tr>\n",
       "    <tr>\n",
       "      <th>(6.957, 7.229]</th>\n",
       "      <td>3</td>\n",
       "      <td>11</td>\n",
       "      <td>0.100000</td>\n",
       "    </tr>\n",
       "    <tr>\n",
       "      <th>(7.229, 7.5]</th>\n",
       "      <td>2</td>\n",
       "      <td>13</td>\n",
       "      <td>0.066667</td>\n",
       "    </tr>\n",
       "    <tr>\n",
       "      <th>(7.5, 7.771]</th>\n",
       "      <td>4</td>\n",
       "      <td>17</td>\n",
       "      <td>0.133333</td>\n",
       "    </tr>\n",
       "    <tr>\n",
       "      <th>(7.771, 8.043]</th>\n",
       "      <td>4</td>\n",
       "      <td>21</td>\n",
       "      <td>0.133333</td>\n",
       "    </tr>\n",
       "    <tr>\n",
       "      <th>(8.043, 8.314]</th>\n",
       "      <td>3</td>\n",
       "      <td>24</td>\n",
       "      <td>0.100000</td>\n",
       "    </tr>\n",
       "    <tr>\n",
       "      <th>(8.314, 8.586]</th>\n",
       "      <td>2</td>\n",
       "      <td>26</td>\n",
       "      <td>0.066667</td>\n",
       "    </tr>\n",
       "    <tr>\n",
       "      <th>(8.586, 8.857]</th>\n",
       "      <td>1</td>\n",
       "      <td>27</td>\n",
       "      <td>0.033333</td>\n",
       "    </tr>\n",
       "    <tr>\n",
       "      <th>(8.857, 9.129]</th>\n",
       "      <td>2</td>\n",
       "      <td>29</td>\n",
       "      <td>0.066667</td>\n",
       "    </tr>\n",
       "    <tr>\n",
       "      <th>(9.129, 9.4]</th>\n",
       "      <td>1</td>\n",
       "      <td>30</td>\n",
       "      <td>0.033333</td>\n",
       "    </tr>\n",
       "  </tbody>\n",
       "</table>\n",
       "</div>"
      ],
      "text/plain": [
       "                Frecuencia absoluta  Frecuencia acumulada  Frecuencia relativa\n",
       "Peso                                                                          \n",
       "(5.595, 5.871]                    2                     2             0.066667\n",
       "(5.871, 6.143]                    1                     3             0.033333\n",
       "(6.143, 6.414]                    1                     4             0.033333\n",
       "(6.414, 6.686]                    0                     4             0.000000\n",
       "(6.686, 6.957]                    4                     8             0.133333\n",
       "(6.957, 7.229]                    3                    11             0.100000\n",
       "(7.229, 7.5]                      2                    13             0.066667\n",
       "(7.5, 7.771]                      4                    17             0.133333\n",
       "(7.771, 8.043]                    4                    21             0.133333\n",
       "(8.043, 8.314]                    3                    24             0.100000\n",
       "(8.314, 8.586]                    2                    26             0.066667\n",
       "(8.586, 8.857]                    1                    27             0.033333\n",
       "(8.857, 9.129]                    2                    29             0.066667\n",
       "(9.129, 9.4]                      1                    30             0.033333"
      ]
     },
     "execution_count": 29,
     "metadata": {},
     "output_type": "execute_result"
    }
   ],
   "source": [
    "# Por terminar, marca de clase, f_i * x_i, ...\n",
    "clases = df['Peso'].value_counts(bins = k, sort = False)\n",
    "tablaFrecuencias = pd.DataFrame(clases)\n",
    "tablaFrecuencias.rename(columns = {'count':'Frecuencia absoluta'}, inplace = True)\n",
    "frecuenciaAcumulada = []\n",
    "acumulador = 0\n",
    "\n",
    "for i in tablaFrecuencias.index:\n",
    "    acumulador = acumulador + tablaFrecuencias['Frecuencia absoluta'][i]\n",
    "    frecuenciaAcumulada.append(acumulador)\n",
    "\n",
    "tablaFrecuencias['Frecuencia acumulada'] = frecuenciaAcumulada\n",
    "tablaFrecuencias['Frecuencia relativa'] = tablaFrecuencias['Frecuencia absoluta'] / n\n",
    "\n",
    "tablaFrecuencias"
   ]
  }
 ],
 "metadata": {
  "kernelspec": {
   "display_name": "Python 3",
   "language": "python",
   "name": "python3"
  },
  "language_info": {
   "codemirror_mode": {
    "name": "ipython",
    "version": 3
   },
   "file_extension": ".py",
   "mimetype": "text/x-python",
   "name": "python",
   "nbconvert_exporter": "python",
   "pygments_lexer": "ipython3",
   "version": "3.10.6"
  },
  "orig_nbformat": 4
 },
 "nbformat": 4,
 "nbformat_minor": 2
}
